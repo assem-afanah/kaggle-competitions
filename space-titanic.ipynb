{
 "cells": [
  {
   "cell_type": "code",
   "execution_count": 1,
   "id": "4ff13afb",
   "metadata": {
    "_cell_guid": "b1076dfc-b9ad-4769-8c92-a6c4dae69d19",
    "_uuid": "8f2839f25d086af736a60e9eeb907d3b93b6e0e5",
    "execution": {
     "iopub.execute_input": "2023-10-29T13:33:56.230531Z",
     "iopub.status.busy": "2023-10-29T13:33:56.230033Z",
     "iopub.status.idle": "2023-10-29T13:33:56.252867Z",
     "shell.execute_reply": "2023-10-29T13:33:56.251694Z"
    },
    "papermill": {
     "duration": 0.034791,
     "end_time": "2023-10-29T13:33:56.256236",
     "exception": false,
     "start_time": "2023-10-29T13:33:56.221445",
     "status": "completed"
    },
    "tags": []
   },
   "outputs": [
    {
     "name": "stdout",
     "output_type": "stream",
     "text": [
      "/kaggle/input/spaceship-titanic/sample_submission.csv\n",
      "/kaggle/input/spaceship-titanic/train.csv\n",
      "/kaggle/input/spaceship-titanic/test.csv\n"
     ]
    }
   ],
   "source": [
    "# This Python 3 environment comes with many helpful analytics libraries installed\n",
    "# It is defined by the kaggle/python Docker image: https://github.com/kaggle/docker-python\n",
    "\n",
    "import numpy as np # linear algebra\n",
    "import pandas as pd # data processing, CSV file I/O (e.g. pd.read_csv)\n",
    "\n",
    "# Input data files are available in the read-only \"../input/\" directory\n",
    "# For example, running this (by clicking run or pressing Shift+Enter) will list all files\n",
    "# under the input directory\n",
    "\n",
    "import os\n",
    "for dirname, _, filenames in os.walk('/kaggle/input'):\n",
    "    for filename in filenames:\n",
    "        print(os.path.join(dirname, filename))\n"
   ]
  },
  {
   "cell_type": "code",
   "execution_count": 2,
   "id": "3f2cb6c4",
   "metadata": {
    "execution": {
     "iopub.execute_input": "2023-10-29T13:33:56.268735Z",
     "iopub.status.busy": "2023-10-29T13:33:56.267392Z",
     "iopub.status.idle": "2023-10-29T13:33:56.275688Z",
     "shell.execute_reply": "2023-10-29T13:33:56.274400Z"
    },
    "papermill": {
     "duration": 0.017413,
     "end_time": "2023-10-29T13:33:56.278681",
     "exception": false,
     "start_time": "2023-10-29T13:33:56.261268",
     "status": "completed"
    },
    "tags": []
   },
   "outputs": [],
   "source": [
    "# Setup plotting\n",
    "import matplotlib.pyplot as plt\n",
    "plt.style.use('seaborn-whitegrid')\n",
    "# Set Matplotlib defaults\n",
    "plt.rc('figure', autolayout=True)\n",
    "plt.rc('axes', labelweight='bold', labelsize='large',\n",
    "       titleweight='bold', titlesize=18, titlepad=10)\n",
    "plt.rc('animation', html='html5')"
   ]
  },
  {
   "cell_type": "code",
   "execution_count": 3,
   "id": "bd467b2d",
   "metadata": {
    "execution": {
     "iopub.execute_input": "2023-10-29T13:33:56.289952Z",
     "iopub.status.busy": "2023-10-29T13:33:56.289477Z",
     "iopub.status.idle": "2023-10-29T13:34:04.967840Z",
     "shell.execute_reply": "2023-10-29T13:34:04.966455Z"
    },
    "papermill": {
     "duration": 8.687499,
     "end_time": "2023-10-29T13:34:04.970904",
     "exception": false,
     "start_time": "2023-10-29T13:33:56.283405",
     "status": "completed"
    },
    "tags": []
   },
   "outputs": [],
   "source": [
    "#import libraries\n",
    "from sklearn.preprocessing import StandardScaler, OneHotEncoder\n",
    "from sklearn.model_selection import train_test_split\n",
    "from sklearn.compose import make_column_transformer\n",
    "from sklearn.model_selection import GroupShuffleSplit\n",
    "\n",
    "from tensorflow import keras\n",
    "from tensorflow.keras import layers\n",
    "from tensorflow.keras import callbacks"
   ]
  },
  {
   "cell_type": "code",
   "execution_count": 4,
   "id": "3ab253be",
   "metadata": {
    "execution": {
     "iopub.execute_input": "2023-10-29T13:34:04.982695Z",
     "iopub.status.busy": "2023-10-29T13:34:04.981930Z",
     "iopub.status.idle": "2023-10-29T13:34:05.131498Z",
     "shell.execute_reply": "2023-10-29T13:34:05.130086Z"
    },
    "papermill": {
     "duration": 0.159272,
     "end_time": "2023-10-29T13:34:05.135026",
     "exception": false,
     "start_time": "2023-10-29T13:34:04.975754",
     "status": "completed"
    },
    "tags": []
   },
   "outputs": [
    {
     "name": "stdout",
     "output_type": "stream",
     "text": [
      "Summary of the DataFrame:\n",
      "<class 'pandas.core.frame.DataFrame'>\n",
      "Index: 8693 entries, 0001_01 to 9280_02\n",
      "Data columns (total 10 columns):\n",
      " #   Column        Non-Null Count  Dtype  \n",
      "---  ------        --------------  -----  \n",
      " 0   CryoSleep     8476 non-null   object \n",
      " 1   Destination   8511 non-null   object \n",
      " 2   Age           8514 non-null   float64\n",
      " 3   VIP           8490 non-null   object \n",
      " 4   RoomService   8512 non-null   float64\n",
      " 5   FoodCourt     8510 non-null   float64\n",
      " 6   ShoppingMall  8485 non-null   float64\n",
      " 7   Spa           8510 non-null   float64\n",
      " 8   VRDeck        8505 non-null   float64\n",
      " 9   Transported   8693 non-null   bool   \n",
      "dtypes: bool(1), float64(6), object(3)\n",
      "memory usage: 687.6+ KB\n",
      "None\n"
     ]
    },
    {
     "data": {
      "text/html": [
       "<div>\n",
       "<style scoped>\n",
       "    .dataframe tbody tr th:only-of-type {\n",
       "        vertical-align: middle;\n",
       "    }\n",
       "\n",
       "    .dataframe tbody tr th {\n",
       "        vertical-align: top;\n",
       "    }\n",
       "\n",
       "    .dataframe thead th {\n",
       "        text-align: right;\n",
       "    }\n",
       "</style>\n",
       "<table border=\"1\" class=\"dataframe\">\n",
       "  <thead>\n",
       "    <tr style=\"text-align: right;\">\n",
       "      <th></th>\n",
       "      <th>CryoSleep</th>\n",
       "      <th>Destination</th>\n",
       "      <th>Age</th>\n",
       "      <th>VIP</th>\n",
       "      <th>RoomService</th>\n",
       "      <th>FoodCourt</th>\n",
       "      <th>ShoppingMall</th>\n",
       "      <th>Spa</th>\n",
       "      <th>VRDeck</th>\n",
       "      <th>Transported</th>\n",
       "    </tr>\n",
       "    <tr>\n",
       "      <th>PassengerId</th>\n",
       "      <th></th>\n",
       "      <th></th>\n",
       "      <th></th>\n",
       "      <th></th>\n",
       "      <th></th>\n",
       "      <th></th>\n",
       "      <th></th>\n",
       "      <th></th>\n",
       "      <th></th>\n",
       "      <th></th>\n",
       "    </tr>\n",
       "  </thead>\n",
       "  <tbody>\n",
       "    <tr>\n",
       "      <th>0001_01</th>\n",
       "      <td>False</td>\n",
       "      <td>TRAPPIST-1e</td>\n",
       "      <td>39.0</td>\n",
       "      <td>False</td>\n",
       "      <td>0.0</td>\n",
       "      <td>0.0</td>\n",
       "      <td>0.0</td>\n",
       "      <td>0.0</td>\n",
       "      <td>0.0</td>\n",
       "      <td>False</td>\n",
       "    </tr>\n",
       "    <tr>\n",
       "      <th>0002_01</th>\n",
       "      <td>False</td>\n",
       "      <td>TRAPPIST-1e</td>\n",
       "      <td>24.0</td>\n",
       "      <td>False</td>\n",
       "      <td>109.0</td>\n",
       "      <td>9.0</td>\n",
       "      <td>25.0</td>\n",
       "      <td>549.0</td>\n",
       "      <td>44.0</td>\n",
       "      <td>True</td>\n",
       "    </tr>\n",
       "    <tr>\n",
       "      <th>0003_01</th>\n",
       "      <td>False</td>\n",
       "      <td>TRAPPIST-1e</td>\n",
       "      <td>58.0</td>\n",
       "      <td>True</td>\n",
       "      <td>43.0</td>\n",
       "      <td>3576.0</td>\n",
       "      <td>0.0</td>\n",
       "      <td>6715.0</td>\n",
       "      <td>49.0</td>\n",
       "      <td>False</td>\n",
       "    </tr>\n",
       "    <tr>\n",
       "      <th>0003_02</th>\n",
       "      <td>False</td>\n",
       "      <td>TRAPPIST-1e</td>\n",
       "      <td>33.0</td>\n",
       "      <td>False</td>\n",
       "      <td>0.0</td>\n",
       "      <td>1283.0</td>\n",
       "      <td>371.0</td>\n",
       "      <td>3329.0</td>\n",
       "      <td>193.0</td>\n",
       "      <td>False</td>\n",
       "    </tr>\n",
       "    <tr>\n",
       "      <th>0004_01</th>\n",
       "      <td>False</td>\n",
       "      <td>TRAPPIST-1e</td>\n",
       "      <td>16.0</td>\n",
       "      <td>False</td>\n",
       "      <td>303.0</td>\n",
       "      <td>70.0</td>\n",
       "      <td>151.0</td>\n",
       "      <td>565.0</td>\n",
       "      <td>2.0</td>\n",
       "      <td>True</td>\n",
       "    </tr>\n",
       "  </tbody>\n",
       "</table>\n",
       "</div>"
      ],
      "text/plain": [
       "            CryoSleep  Destination   Age    VIP  RoomService  FoodCourt  \\\n",
       "PassengerId                                                               \n",
       "0001_01         False  TRAPPIST-1e  39.0  False          0.0        0.0   \n",
       "0002_01         False  TRAPPIST-1e  24.0  False        109.0        9.0   \n",
       "0003_01         False  TRAPPIST-1e  58.0   True         43.0     3576.0   \n",
       "0003_02         False  TRAPPIST-1e  33.0  False          0.0     1283.0   \n",
       "0004_01         False  TRAPPIST-1e  16.0  False        303.0       70.0   \n",
       "\n",
       "             ShoppingMall     Spa  VRDeck  Transported  \n",
       "PassengerId                                             \n",
       "0001_01               0.0     0.0     0.0        False  \n",
       "0002_01              25.0   549.0    44.0         True  \n",
       "0003_01               0.0  6715.0    49.0        False  \n",
       "0003_02             371.0  3329.0   193.0        False  \n",
       "0004_01             151.0   565.0     2.0         True  "
      ]
     },
     "execution_count": 4,
     "metadata": {},
     "output_type": "execute_result"
    }
   ],
   "source": [
    "#load data sets\n",
    "train_data = pd.read_csv(\"/kaggle/input/spaceship-titanic/train.csv\", index_col=0)\n",
    "train_data = train_data.drop(['Name','Cabin','HomePlanet'], axis=1)\n",
    "test_data = pd.read_csv(\"/kaggle/input/spaceship-titanic/test.csv\", index_col=0)\n",
    "test_data = test_data.drop(['Name','Cabin','HomePlanet'], axis=1)\n",
    "#-------------------------------------------------------------------------------#\n",
    "print(\"Summary of the DataFrame:\")\n",
    "#uncomment to check data\n",
    "print(train_data.info())\n",
    "train_data.head()\n",
    "#check\n",
    "#test_data.head()"
   ]
  },
  {
   "cell_type": "code",
   "execution_count": 5,
   "id": "292495d0",
   "metadata": {
    "execution": {
     "iopub.execute_input": "2023-10-29T13:34:05.147694Z",
     "iopub.status.busy": "2023-10-29T13:34:05.147233Z",
     "iopub.status.idle": "2023-10-29T13:34:05.159378Z",
     "shell.execute_reply": "2023-10-29T13:34:05.158013Z"
    },
    "papermill": {
     "duration": 0.021751,
     "end_time": "2023-10-29T13:34:05.162215",
     "exception": false,
     "start_time": "2023-10-29T13:34:05.140464",
     "status": "completed"
    },
    "tags": []
   },
   "outputs": [],
   "source": [
    "#map({'False': 0, 'True': 1}\n",
    "Y = train_data['Transported']\n",
    "Y=Y.replace({False: 0, True: 1})\n",
    "#check\n",
    "#print(Y)"
   ]
  },
  {
   "cell_type": "code",
   "execution_count": 6,
   "id": "dac87809",
   "metadata": {
    "execution": {
     "iopub.execute_input": "2023-10-29T13:34:05.174458Z",
     "iopub.status.busy": "2023-10-29T13:34:05.173975Z",
     "iopub.status.idle": "2023-10-29T13:34:05.238221Z",
     "shell.execute_reply": "2023-10-29T13:34:05.236831Z"
    },
    "papermill": {
     "duration": 0.074412,
     "end_time": "2023-10-29T13:34:05.241772",
     "exception": false,
     "start_time": "2023-10-29T13:34:05.167360",
     "status": "completed"
    },
    "tags": []
   },
   "outputs": [
    {
     "name": "stdout",
     "output_type": "stream",
     "text": [
      "(8693, 6)\n",
      "(8693, 7)\n"
     ]
    }
   ],
   "source": [
    "#preprocessing data\n",
    "# 1. replace null values\n",
    "#seperate numerical and caterogical featuers\n",
    "X = train_data.drop(['Transported'], axis =1)\n",
    "X_num = X.select_dtypes(include=np.number).copy()\n",
    "X_cat = X.select_dtypes(include= 'object').copy()\n",
    "test_num = test_data.select_dtypes(include=np.number).copy()\n",
    "test_cat = test_data.select_dtypes(include= 'object').copy()\n",
    "#----------------------------------------------------------------------------------#\n",
    "#replace missing vlues with mean(numeric) or most recuurent(caterogical)\n",
    "X_num = X_num.fillna(X_num.mean())\n",
    "test_num = test_num.fillna(test_num.mean())\n",
    "X_cat = X_cat.apply(lambda x: x.fillna(x.value_counts().index[0]))\n",
    "test_cat = test_cat.apply(lambda x: x.fillna(x.value_counts().index[0]))\n",
    "#----------------------------------------------------------------------------------#\n",
    "# Apply ordinal encoder to catoricical featuers  \n",
    "OHE = OneHotEncoder()\n",
    "X_cat_OH = OHE.fit_transform(X_cat).toarray()\n",
    "test_cat_OH = OHE.fit_transform(test_cat).toarray()\n",
    "#---------------------------------------------------------------------------------#\n",
    "#check\n",
    "print(X_num.shape)\n",
    "print(X_cat_OH.shape)\n",
    "# joint datasets\n",
    "Xf = np.concatenate((X_num, X_cat_OH), axis=1)\n",
    "testf = np.concatenate((test_num, test_cat_OH), axis=1)\n",
    "# Split into validation and training data\n",
    "train_X, val_X, train_y, val_y = train_test_split(Xf, Y, train_size=0.8,test_size=0.2, random_state=1)"
   ]
  },
  {
   "cell_type": "code",
   "execution_count": 7,
   "id": "47bb3491",
   "metadata": {
    "execution": {
     "iopub.execute_input": "2023-10-29T13:34:05.254366Z",
     "iopub.status.busy": "2023-10-29T13:34:05.253907Z",
     "iopub.status.idle": "2023-10-29T13:34:05.467554Z",
     "shell.execute_reply": "2023-10-29T13:34:05.466162Z"
    },
    "papermill": {
     "duration": 0.223649,
     "end_time": "2023-10-29T13:34:05.470850",
     "exception": false,
     "start_time": "2023-10-29T13:34:05.247201",
     "status": "completed"
    },
    "tags": []
   },
   "outputs": [
    {
     "name": "stdout",
     "output_type": "stream",
     "text": [
      "Input shape: [13]\n"
     ]
    }
   ],
   "source": [
    "input_shape = [train_X.shape[1]]\n",
    "print(\"Input shape: {}\".format(input_shape))\n",
    "loss= keras.losses.BinaryCrossentropy(from_logits= False)\n",
    "#model\n",
    "model =  keras.Sequential([\n",
    "    layers.BatchNormalization(input_shape= input_shape ),\n",
    "    layers.Dense(256, activation='relu'),\n",
    "    layers.BatchNormalization(),\n",
    "    layers.Dropout(0.3),\n",
    "    layers.Dense(256, activation='relu'),\n",
    "    layers.BatchNormalization(),\n",
    "    layers.Dropout(0.3),    \n",
    "    layers.Dense(1, activation='sigmoid'),\n",
    "])\n",
    "model.compile(\n",
    "    optimizer='adam',\n",
    "    loss=loss,\n",
    "    metrics=['accuracy'],\n",
    ")"
   ]
  },
  {
   "cell_type": "code",
   "execution_count": 8,
   "id": "0e506bdd",
   "metadata": {
    "execution": {
     "iopub.execute_input": "2023-10-29T13:34:05.483703Z",
     "iopub.status.busy": "2023-10-29T13:34:05.483232Z",
     "iopub.status.idle": "2023-10-29T13:34:20.429258Z",
     "shell.execute_reply": "2023-10-29T13:34:20.427848Z"
    },
    "papermill": {
     "duration": 14.956286,
     "end_time": "2023-10-29T13:34:20.432537",
     "exception": false,
     "start_time": "2023-10-29T13:34:05.476251",
     "status": "completed"
    },
    "tags": []
   },
   "outputs": [
    {
     "data": {
      "text/plain": [
       "<AxesSubplot:title={'center':'Accuracy'}>"
      ]
     },
     "execution_count": 8,
     "metadata": {},
     "output_type": "execute_result"
    },
    {
     "data": {
      "image/png": "[encoded data removed]",
      "text/plain": [
       "<Figure size 432x288 with 1 Axes>"
      ]
     },
     "metadata": {},
     "output_type": "display_data"
    },
    {
     "data": {
      "image/png": "[encoded data removed]",
      "text/plain": [
       "<Figure size 432x288 with 1 Axes>"
      ]
     },
     "metadata": {},
     "output_type": "display_data"
    }
   ],
   "source": [
    "#training\n",
    "early_stopping = keras.callbacks.EarlyStopping(\n",
    "    patience=10,\n",
    "    min_delta=0.001,\n",
    "    restore_best_weights=True,\n",
    ")\n",
    "history = model.fit(\n",
    "    train_X, train_y,\n",
    "    validation_data=(val_X, val_y),\n",
    "    batch_size=512,\n",
    "    epochs=200,\n",
    "    callbacks=[early_stopping],\n",
    "    verbose=0\n",
    ")\n",
    "\n",
    "history_df = pd.DataFrame(history.history)\n",
    "history_df.loc[:, ['loss', 'val_loss']].plot(title=\"binary-Cross-entropy\")\n",
    "history_df.loc[:, ['accuracy', 'val_accuracy']].plot(title=\"Accuracy\")"
   ]
  },
  {
   "cell_type": "code",
   "execution_count": 9,
   "id": "fe9d76f9",
   "metadata": {
    "execution": {
     "iopub.execute_input": "2023-10-29T13:34:20.448841Z",
     "iopub.status.busy": "2023-10-29T13:34:20.448344Z",
     "iopub.status.idle": "2023-10-29T13:34:20.939132Z",
     "shell.execute_reply": "2023-10-29T13:34:20.937398Z"
    },
    "papermill": {
     "duration": 0.502966,
     "end_time": "2023-10-29T13:34:20.942385",
     "exception": false,
     "start_time": "2023-10-29T13:34:20.439419",
     "status": "completed"
    },
    "tags": []
   },
   "outputs": [
    {
     "name": "stdout",
     "output_type": "stream",
     "text": [
      "Your submission was successfully saved!\n"
     ]
    }
   ],
   "source": [
    "predictions = model.predict(testf)\n",
    "predicted = np.array([True if x >= 0.5 else False for x in predictions])\n",
    "output = pd.DataFrame({\"Id\":test_data.index, \"target\":predicted})\n",
    "output.to_csv('submission.csv', index=False)\n",
    "print(\"Your submission was successfully saved!\")"
   ]
  },
  {
   "cell_type": "code",
   "execution_count": null,
   "id": "e4a13891",
   "metadata": {
    "papermill": {
     "duration": 0.006275,
     "end_time": "2023-10-29T13:34:20.955390",
     "exception": false,
     "start_time": "2023-10-29T13:34:20.949115",
     "status": "completed"
    },
    "tags": []
   },
   "outputs": [],
   "source": []
  }
 ],
 "metadata": {
  "kernelspec": {
   "display_name": "Python 3",
   "language": "python",
   "name": "python3"
  },
  "language_info": {
   "codemirror_mode": {
    "name": "ipython",
    "version": 3
   },
   "file_extension": ".py",
   "mimetype": "text/x-python",
   "name": "python",
   "nbconvert_exporter": "python",
   "pygments_lexer": "ipython3",
   "version": "3.7.12"
  },
  "papermill": {
   "default_parameters": {},
   "duration": 39.882892,
   "end_time": "2023-10-29T13:34:23.630989",
   "environment_variables": {},
   "exception": null,
   "input_path": "__notebook__.ipynb",
   "output_path": "__notebook__.ipynb",
   "parameters": {},
   "start_time": "2023-10-29T13:33:43.748097",
   "version": "2.3.4"
  }
 },
 "nbformat": 4,
 "nbformat_minor": 5
}
